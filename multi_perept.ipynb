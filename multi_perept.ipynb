{
  "nbformat": 4,
  "nbformat_minor": 0,
  "metadata": {
    "colab": {
      "provenance": []
    },
    "kernelspec": {
      "name": "python3",
      "display_name": "Python 3"
    },
    "language_info": {
      "name": "python"
    }
  },
  "cells": [
    {
      "cell_type": "markdown",
      "source": [
        "SIGMOID FUNCTION IMPLEMENTATION USING PYTHON"
      ],
      "metadata": {
        "id": "ytWDJr_k_JV7"
      }
    },
    {
      "cell_type": "code",
      "source": [
        "def sigmoid(x):\n",
        "  return 1/(1+np.exp(-x))\n",
        "  "
      ],
      "metadata": {
        "id": "IQQ_5aVV9QG1"
      },
      "execution_count": 53,
      "outputs": []
    },
    {
      "cell_type": "code",
      "source": [
        "x=[-9,-8,-7,-6,-5,-4,-3,-2,-1,0,1,2,3,4,5,6,7,8,9]\n",
        "y=[]\n",
        "for i in x:\n",
        "  k = sigmoid(i)\n",
        "  y.append(k)\n"
      ],
      "metadata": {
        "id": "HXk5sV3m9c3c"
      },
      "execution_count": 61,
      "outputs": []
    },
    {
      "cell_type": "code",
      "source": [
        "plt.plot(x,y);"
      ],
      "metadata": {
        "colab": {
          "base_uri": "https://localhost:8080/",
          "height": 265
        },
        "id": "04zK-eqV9vgJ",
        "outputId": "ff711859-74ea-4c1f-89e1-e59c02a6b3ed"
      },
      "execution_count": 69,
      "outputs": [
        {
          "output_type": "display_data",
          "data": {
            "text/plain": [
              "<Figure size 432x288 with 1 Axes>"
            ],
            "image/png": "[encoded data removed]"
          },
          "metadata": {
            "needs_background": "light"
          }
        }
      ]
    },
    {
      "cell_type": "markdown",
      "source": [
        "MULTILAYER PERCEPTRON MODEL"
      ],
      "metadata": {
        "id": "ezofJFV7_SGi"
      }
    },
    {
      "cell_type": "code",
      "source": [
        "# generate dummy data\n",
        "import numpy as np\n",
        "data = np.random.random((1000, 784))\n",
        "labels = np.random.randint(2, size=(1000, 1))"
      ],
      "metadata": {
        "id": "FzAC9A7St9aH"
      },
      "execution_count": 11,
      "outputs": []
    },
    {
      "cell_type": "code",
      "source": [
        "from sklearn.model_selection import train_test_split\n",
        "x_train,x_test,y_train,y_test = train_test_split(data,labels,test_size=0.25)"
      ],
      "metadata": {
        "id": "zX1bkw84vTLl"
      },
      "execution_count": 18,
      "outputs": []
    },
    {
      "cell_type": "code",
      "execution_count": 67,
      "metadata": {
        "id": "YZ9c2hL4oPlX"
      },
      "outputs": [],
      "source": [
        "from tensorflow.keras.models import Sequential\n",
        "from tensorflow.keras.layers import Dense\n",
        "model = Sequential()\n",
        "model.add(Dense(5 , activation = 'sigmoid'))\n",
        "model.add(Dense(8,activation='sigmoid'))\n",
        "model.add(Dense(4,activation='sigmoid'))\n",
        "model.add(Dense(1,activation='sigmoid'))\n",
        "model.compile(optimizer='adam',loss = 'mse')\n"
      ]
    },
    {
      "cell_type": "code",
      "source": [
        "model.fit(x_train,y_train,batch_size=32,validation_data=(x_test,y_test),epochs=100)"
      ],
      "metadata": {
        "colab": {
          "base_uri": "https://localhost:8080/"
        },
        "id": "5OfmOFVbsP2w",
        "outputId": "93a4e6f0-6096-4b39-acf1-c04c6f9840f1"
      },
      "execution_count": 68,
      "outputs": [
        {
          "output_type": "stream",
          "name": "stdout",
          "text": [
            "Epoch 1/100\n",
            "24/24 [==============================] - 1s 11ms/step - loss: 0.2883 - val_loss: 0.2513\n",
            "Epoch 2/100\n",
            "24/24 [==============================] - 0s 4ms/step - loss: 0.2784 - val_loss: 0.2469\n",
            "Epoch 3/100\n",
            "24/24 [==============================] - 0s 5ms/step - loss: 0.2704 - val_loss: 0.2442\n",
            "Epoch 4/100\n",
            "24/24 [==============================] - 0s 5ms/step - loss: 0.2643 - val_loss: 0.2427\n",
            "Epoch 5/100\n",
            "24/24 [==============================] - 0s 5ms/step - loss: 0.2600 - val_loss: 0.2423\n",
            "Epoch 6/100\n",
            "24/24 [==============================] - 0s 5ms/step - loss: 0.2566 - val_loss: 0.2425\n",
            "Epoch 7/100\n",
            "24/24 [==============================] - 0s 5ms/step - loss: 0.2543 - val_loss: 0.2431\n",
            "Epoch 8/100\n",
            "24/24 [==============================] - 0s 5ms/step - loss: 0.2527 - val_loss: 0.2439\n",
            "Epoch 9/100\n",
            "24/24 [==============================] - 0s 4ms/step - loss: 0.2517 - val_loss: 0.2447\n",
            "Epoch 10/100\n",
            "24/24 [==============================] - 0s 5ms/step - loss: 0.2511 - val_loss: 0.2455\n",
            "Epoch 11/100\n",
            "24/24 [==============================] - 0s 4ms/step - loss: 0.2508 - val_loss: 0.2466\n",
            "Epoch 12/100\n",
            "24/24 [==============================] - 0s 5ms/step - loss: 0.2504 - val_loss: 0.2469\n",
            "Epoch 13/100\n",
            "24/24 [==============================] - 0s 4ms/step - loss: 0.2503 - val_loss: 0.2476\n",
            "Epoch 14/100\n",
            "24/24 [==============================] - 0s 5ms/step - loss: 0.2502 - val_loss: 0.2479\n",
            "Epoch 15/100\n",
            "24/24 [==============================] - 0s 4ms/step - loss: 0.2501 - val_loss: 0.2487\n",
            "Epoch 16/100\n",
            "24/24 [==============================] - 0s 5ms/step - loss: 0.2501 - val_loss: 0.2488\n",
            "Epoch 17/100\n",
            "24/24 [==============================] - 0s 5ms/step - loss: 0.2501 - val_loss: 0.2489\n",
            "Epoch 18/100\n",
            "24/24 [==============================] - 0s 5ms/step - loss: 0.2501 - val_loss: 0.2491\n",
            "Epoch 19/100\n",
            "24/24 [==============================] - 0s 4ms/step - loss: 0.2500 - val_loss: 0.2492\n",
            "Epoch 20/100\n",
            "24/24 [==============================] - 0s 4ms/step - loss: 0.2500 - val_loss: 0.2494\n",
            "Epoch 21/100\n",
            "24/24 [==============================] - 0s 5ms/step - loss: 0.2500 - val_loss: 0.2493\n",
            "Epoch 22/100\n",
            "24/24 [==============================] - 0s 5ms/step - loss: 0.2500 - val_loss: 0.2497\n",
            "Epoch 23/100\n",
            "24/24 [==============================] - 0s 5ms/step - loss: 0.2500 - val_loss: 0.2498\n",
            "Epoch 24/100\n",
            "24/24 [==============================] - 0s 4ms/step - loss: 0.2500 - val_loss: 0.2495\n",
            "Epoch 25/100\n",
            "24/24 [==============================] - 0s 5ms/step - loss: 0.2500 - val_loss: 0.2498\n",
            "Epoch 26/100\n",
            "24/24 [==============================] - 0s 5ms/step - loss: 0.2500 - val_loss: 0.2498\n",
            "Epoch 27/100\n",
            "24/24 [==============================] - 0s 4ms/step - loss: 0.2500 - val_loss: 0.2498\n",
            "Epoch 28/100\n",
            "24/24 [==============================] - 0s 5ms/step - loss: 0.2500 - val_loss: 0.2498\n",
            "Epoch 29/100\n",
            "24/24 [==============================] - 0s 4ms/step - loss: 0.2500 - val_loss: 0.2499\n",
            "Epoch 30/100\n",
            "24/24 [==============================] - 0s 4ms/step - loss: 0.2501 - val_loss: 0.2499\n",
            "Epoch 31/100\n",
            "24/24 [==============================] - 0s 4ms/step - loss: 0.2500 - val_loss: 0.2503\n",
            "Epoch 32/100\n",
            "24/24 [==============================] - 0s 6ms/step - loss: 0.2501 - val_loss: 0.2497\n",
            "Epoch 33/100\n",
            "24/24 [==============================] - 0s 4ms/step - loss: 0.2500 - val_loss: 0.2502\n",
            "Epoch 34/100\n",
            "24/24 [==============================] - 0s 5ms/step - loss: 0.2500 - val_loss: 0.2500\n",
            "Epoch 35/100\n",
            "24/24 [==============================] - 0s 4ms/step - loss: 0.2500 - val_loss: 0.2499\n",
            "Epoch 36/100\n",
            "24/24 [==============================] - 0s 4ms/step - loss: 0.2501 - val_loss: 0.2496\n",
            "Epoch 37/100\n",
            "24/24 [==============================] - 0s 4ms/step - loss: 0.2500 - val_loss: 0.2494\n",
            "Epoch 38/100\n",
            "24/24 [==============================] - 0s 4ms/step - loss: 0.2499 - val_loss: 0.2494\n",
            "Epoch 39/100\n",
            "24/24 [==============================] - 0s 4ms/step - loss: 0.2499 - val_loss: 0.2492\n",
            "Epoch 40/100\n",
            "24/24 [==============================] - 0s 5ms/step - loss: 0.2498 - val_loss: 0.2494\n",
            "Epoch 41/100\n",
            "24/24 [==============================] - 0s 4ms/step - loss: 0.2498 - val_loss: 0.2499\n",
            "Epoch 42/100\n",
            "24/24 [==============================] - 0s 4ms/step - loss: 0.2497 - val_loss: 0.2498\n",
            "Epoch 43/100\n",
            "24/24 [==============================] - 0s 4ms/step - loss: 0.2495 - val_loss: 0.2497\n",
            "Epoch 44/100\n",
            "24/24 [==============================] - 0s 5ms/step - loss: 0.2494 - val_loss: 0.2494\n",
            "Epoch 45/100\n",
            "24/24 [==============================] - 0s 4ms/step - loss: 0.2493 - val_loss: 0.2490\n",
            "Epoch 46/100\n",
            "24/24 [==============================] - 0s 4ms/step - loss: 0.2492 - val_loss: 0.2495\n",
            "Epoch 47/100\n",
            "24/24 [==============================] - 0s 4ms/step - loss: 0.2489 - val_loss: 0.2489\n",
            "Epoch 48/100\n",
            "24/24 [==============================] - 0s 5ms/step - loss: 0.2487 - val_loss: 0.2491\n",
            "Epoch 49/100\n",
            "24/24 [==============================] - 0s 4ms/step - loss: 0.2484 - val_loss: 0.2489\n",
            "Epoch 50/100\n",
            "24/24 [==============================] - 0s 5ms/step - loss: 0.2482 - val_loss: 0.2494\n",
            "Epoch 51/100\n",
            "24/24 [==============================] - 0s 4ms/step - loss: 0.2479 - val_loss: 0.2486\n",
            "Epoch 52/100\n",
            "24/24 [==============================] - 0s 5ms/step - loss: 0.2475 - val_loss: 0.2492\n",
            "Epoch 53/100\n",
            "24/24 [==============================] - 0s 4ms/step - loss: 0.2473 - val_loss: 0.2489\n",
            "Epoch 54/100\n",
            "24/24 [==============================] - 0s 4ms/step - loss: 0.2469 - val_loss: 0.2495\n",
            "Epoch 55/100\n",
            "24/24 [==============================] - 0s 4ms/step - loss: 0.2468 - val_loss: 0.2488\n",
            "Epoch 56/100\n",
            "24/24 [==============================] - 0s 4ms/step - loss: 0.2464 - val_loss: 0.2498\n",
            "Epoch 57/100\n",
            "24/24 [==============================] - 0s 5ms/step - loss: 0.2462 - val_loss: 0.2488\n",
            "Epoch 58/100\n",
            "24/24 [==============================] - 0s 4ms/step - loss: 0.2455 - val_loss: 0.2468\n",
            "Epoch 59/100\n",
            "24/24 [==============================] - 0s 5ms/step - loss: 0.2447 - val_loss: 0.2476\n",
            "Epoch 60/100\n",
            "24/24 [==============================] - 0s 4ms/step - loss: 0.2441 - val_loss: 0.2483\n",
            "Epoch 61/100\n",
            "24/24 [==============================] - 0s 4ms/step - loss: 0.2429 - val_loss: 0.2474\n",
            "Epoch 62/100\n",
            "24/24 [==============================] - 0s 5ms/step - loss: 0.2421 - val_loss: 0.2484\n",
            "Epoch 63/100\n",
            "24/24 [==============================] - 0s 4ms/step - loss: 0.2411 - val_loss: 0.2499\n",
            "Epoch 64/100\n",
            "24/24 [==============================] - 0s 4ms/step - loss: 0.2400 - val_loss: 0.2490\n",
            "Epoch 65/100\n",
            "24/24 [==============================] - 0s 4ms/step - loss: 0.2387 - val_loss: 0.2476\n",
            "Epoch 66/100\n",
            "24/24 [==============================] - 0s 4ms/step - loss: 0.2369 - val_loss: 0.2461\n",
            "Epoch 67/100\n",
            "24/24 [==============================] - 0s 4ms/step - loss: 0.2356 - val_loss: 0.2491\n",
            "Epoch 68/100\n",
            "24/24 [==============================] - 0s 4ms/step - loss: 0.2340 - val_loss: 0.2466\n",
            "Epoch 69/100\n",
            "24/24 [==============================] - 0s 4ms/step - loss: 0.2316 - val_loss: 0.2462\n",
            "Epoch 70/100\n",
            "24/24 [==============================] - 0s 4ms/step - loss: 0.2290 - val_loss: 0.2497\n",
            "Epoch 71/100\n",
            "24/24 [==============================] - 0s 4ms/step - loss: 0.2267 - val_loss: 0.2479\n",
            "Epoch 72/100\n",
            "24/24 [==============================] - 0s 4ms/step - loss: 0.2242 - val_loss: 0.2480\n",
            "Epoch 73/100\n",
            "24/24 [==============================] - 0s 4ms/step - loss: 0.2214 - val_loss: 0.2446\n",
            "Epoch 74/100\n",
            "24/24 [==============================] - 0s 4ms/step - loss: 0.2181 - val_loss: 0.2470\n",
            "Epoch 75/100\n",
            "24/24 [==============================] - 0s 4ms/step - loss: 0.2136 - val_loss: 0.2534\n",
            "Epoch 76/100\n",
            "24/24 [==============================] - 0s 5ms/step - loss: 0.2113 - val_loss: 0.2444\n",
            "Epoch 77/100\n",
            "24/24 [==============================] - 0s 5ms/step - loss: 0.2075 - val_loss: 0.2493\n",
            "Epoch 78/100\n",
            "24/24 [==============================] - 0s 7ms/step - loss: 0.2015 - val_loss: 0.2465\n",
            "Epoch 79/100\n",
            "24/24 [==============================] - 0s 6ms/step - loss: 0.1959 - val_loss: 0.2475\n",
            "Epoch 80/100\n",
            "24/24 [==============================] - 0s 7ms/step - loss: 0.1915 - val_loss: 0.2481\n",
            "Epoch 81/100\n",
            "24/24 [==============================] - 0s 6ms/step - loss: 0.1868 - val_loss: 0.2452\n",
            "Epoch 82/100\n",
            "24/24 [==============================] - 0s 6ms/step - loss: 0.1792 - val_loss: 0.2567\n",
            "Epoch 83/100\n",
            "24/24 [==============================] - 0s 6ms/step - loss: 0.1744 - val_loss: 0.2446\n",
            "Epoch 84/100\n",
            "24/24 [==============================] - 0s 6ms/step - loss: 0.1727 - val_loss: 0.2523\n",
            "Epoch 85/100\n",
            "24/24 [==============================] - 0s 6ms/step - loss: 0.1647 - val_loss: 0.2580\n",
            "Epoch 86/100\n",
            "24/24 [==============================] - 0s 7ms/step - loss: 0.1589 - val_loss: 0.2540\n",
            "Epoch 87/100\n",
            "24/24 [==============================] - 0s 6ms/step - loss: 0.1554 - val_loss: 0.2535\n",
            "Epoch 88/100\n",
            "24/24 [==============================] - 0s 6ms/step - loss: 0.1499 - val_loss: 0.2618\n",
            "Epoch 89/100\n",
            "24/24 [==============================] - 0s 6ms/step - loss: 0.1415 - val_loss: 0.2584\n",
            "Epoch 90/100\n",
            "24/24 [==============================] - 0s 6ms/step - loss: 0.1383 - val_loss: 0.2691\n",
            "Epoch 91/100\n",
            "24/24 [==============================] - 0s 7ms/step - loss: 0.1329 - val_loss: 0.2783\n",
            "Epoch 92/100\n",
            "24/24 [==============================] - 0s 6ms/step - loss: 0.1292 - val_loss: 0.2677\n",
            "Epoch 93/100\n",
            "24/24 [==============================] - 0s 7ms/step - loss: 0.1208 - val_loss: 0.2753\n",
            "Epoch 94/100\n",
            "24/24 [==============================] - 0s 8ms/step - loss: 0.1167 - val_loss: 0.2785\n",
            "Epoch 95/100\n",
            "24/24 [==============================] - 0s 4ms/step - loss: 0.1113 - val_loss: 0.2763\n",
            "Epoch 96/100\n",
            "24/24 [==============================] - 0s 4ms/step - loss: 0.1076 - val_loss: 0.2762\n",
            "Epoch 97/100\n",
            "24/24 [==============================] - 0s 5ms/step - loss: 0.1023 - val_loss: 0.2846\n",
            "Epoch 98/100\n",
            "24/24 [==============================] - 0s 5ms/step - loss: 0.0968 - val_loss: 0.2841\n",
            "Epoch 99/100\n",
            "24/24 [==============================] - 0s 5ms/step - loss: 0.0932 - val_loss: 0.2873\n",
            "Epoch 100/100\n",
            "24/24 [==============================] - 0s 4ms/step - loss: 0.0876 - val_loss: 0.2940\n"
          ]
        },
        {
          "output_type": "execute_result",
          "data": {
            "text/plain": [
              "<keras.callbacks.History at 0x7f7c9dc03c10>"
            ]
          },
          "metadata": {},
          "execution_count": 68
        }
      ]
    },
    {
      "cell_type": "code",
      "source": [
        "score = model.evaluate(x_test, y_test, batch_size=16)"
      ],
      "metadata": {
        "colab": {
          "base_uri": "https://localhost:8080/"
        },
        "id": "wFLNeoaTvOa8",
        "outputId": "9340c1b6-4830-42ec-c267-10d7f182c6ad"
      },
      "execution_count": 36,
      "outputs": [
        {
          "output_type": "stream",
          "name": "stdout",
          "text": [
            "16/16 [==============================] - 0s 2ms/step - loss: 0.4249\n"
          ]
        }
      ]
    },
    {
      "cell_type": "code",
      "source": [
        "predictions = model.predict(x_test[:30])"
      ],
      "metadata": {
        "colab": {
          "base_uri": "https://localhost:8080/"
        },
        "id": "TwExVcSFwM8y",
        "outputId": "87807903-b3cf-4777-c6f9-a4d1f654f909"
      },
      "execution_count": 41,
      "outputs": [
        {
          "output_type": "stream",
          "name": "stdout",
          "text": [
            "1/1 [==============================] - 0s 30ms/step\n"
          ]
        }
      ]
    },
    {
      "cell_type": "code",
      "source": [
        "import matplotlib.pyplot as plt\n",
        "plt.scatter(y_test[:30],predictions)\n",
        "plt.xlabel('labels')\n",
        "plt.ylabel('predictions');"
      ],
      "metadata": {
        "colab": {
          "base_uri": "https://localhost:8080/",
          "height": 279
        },
        "id": "tdIxA5yiylyR",
        "outputId": "43efc811-c53c-490f-cb79-96ed4c313e37"
      },
      "execution_count": 50,
      "outputs": [
        {
          "output_type": "display_data",
          "data": {
            "text/plain": [
              "<Figure size 432x288 with 1 Axes>"
            ],
            "image/png": "[encoded data removed]"
          },
          "metadata": {
            "needs_background": "light"
          }
        }
      ]
    }
  ]
}